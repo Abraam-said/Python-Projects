{
 "cells": [
  {
   "cell_type": "code",
   "execution_count": 1,
   "id": "3c3b912d",
   "metadata": {},
   "outputs": [],
   "source": [
    "import random"
   ]
  },
  {
   "cell_type": "code",
   "execution_count": 2,
   "id": "71669d7b",
   "metadata": {},
   "outputs": [],
   "source": [
    "somewords = [\n",
    "    'apple', 'bannana', 'mango',\n",
    "    'strawbwerry', 'orange',\n",
    "    'grape', 'lemon', 'watermelon',\n",
    "    'cherry', 'coconut', 'peach', 'figs', \n",
    "    'kiwi', 'pineapple'\n",
    "]"
   ]
  },
  {
   "cell_type": "code",
   "execution_count": 7,
   "id": "719f495e",
   "metadata": {},
   "outputs": [],
   "source": [
    "word = random.choice(somewords)"
   ]
  },
  {
   "cell_type": "code",
   "execution_count": 8,
   "id": "64c5c410",
   "metadata": {},
   "outputs": [
    {
     "data": {
      "text/plain": [
       "'watermelon'"
      ]
     },
     "execution_count": 8,
     "metadata": {},
     "output_type": "execute_result"
    }
   ],
   "source": [
    "word"
   ]
  },
  {
   "cell_type": "code",
   "execution_count": 23,
   "id": "4bfc5b7c",
   "metadata": {},
   "outputs": [
    {
     "ename": "TypeError",
     "evalue": "'str' object does not support item assignment",
     "output_type": "error",
     "traceback": [
      "\u001b[1;31m---------------------------------------------------------------------------\u001b[0m",
      "\u001b[1;31mTypeError\u001b[0m                                 Traceback (most recent call last)",
      "\u001b[1;32m~\\AppData\\Local\\Temp/ipykernel_12552/2376897251.py\u001b[0m in \u001b[0;36m<module>\u001b[1;34m\u001b[0m\n\u001b[1;32m----> 1\u001b[1;33m \u001b[0mword\u001b[0m\u001b[1;33m[\u001b[0m\u001b[1;36m0\u001b[0m\u001b[1;33m]\u001b[0m \u001b[1;33m=\u001b[0m \u001b[1;34m'b'\u001b[0m\u001b[1;33m\u001b[0m\u001b[1;33m\u001b[0m\u001b[0m\n\u001b[0m",
      "\u001b[1;31mTypeError\u001b[0m: 'str' object does not support item assignment"
     ]
    }
   ],
   "source": [
    "word[0] = 'b'"
   ]
  },
  {
   "cell_type": "code",
   "execution_count": null,
   "id": "3129ba4e",
   "metadata": {},
   "outputs": [],
   "source": [
    "'_'"
   ]
  },
  {
   "cell_type": "code",
   "execution_count": 22,
   "id": "6e0b0f74",
   "metadata": {},
   "outputs": [
    {
     "data": {
      "text/plain": [
       "'_______________'"
      ]
     },
     "execution_count": 22,
     "metadata": {},
     "output_type": "execute_result"
    }
   ],
   "source": [
    "'_' * 15"
   ]
  },
  {
   "cell_type": "code",
   "execution_count": 13,
   "id": "aec7965c",
   "metadata": {},
   "outputs": [],
   "source": [
    "letterGussed = list('_' * len(word))"
   ]
  },
  {
   "cell_type": "code",
   "execution_count": 14,
   "id": "b3dfc79e",
   "metadata": {},
   "outputs": [
    {
     "data": {
      "text/plain": [
       "['_', '_', '_', '_', '_', '_', '_', '_', '_', '_']"
      ]
     },
     "execution_count": 14,
     "metadata": {},
     "output_type": "execute_result"
    }
   ],
   "source": [
    "letterGussed"
   ]
  },
  {
   "cell_type": "code",
   "execution_count": 15,
   "id": "8f0bb2bb",
   "metadata": {},
   "outputs": [],
   "source": [
    "letterGussed[0] = 'a'"
   ]
  },
  {
   "cell_type": "code",
   "execution_count": 16,
   "id": "1f92ee44",
   "metadata": {},
   "outputs": [
    {
     "data": {
      "text/plain": [
       "['a', '_', '_', '_', '_', '_', '_', '_', '_', '_']"
      ]
     },
     "execution_count": 16,
     "metadata": {},
     "output_type": "execute_result"
    }
   ],
   "source": [
    "letterGussed"
   ]
  },
  {
   "cell_type": "code",
   "execution_count": 17,
   "id": "749abc3d",
   "metadata": {},
   "outputs": [
    {
     "data": {
      "text/plain": [
       "'a_________'"
      ]
     },
     "execution_count": 17,
     "metadata": {},
     "output_type": "execute_result"
    }
   ],
   "source": [
    "''.join(letterGussed)"
   ]
  },
  {
   "cell_type": "code",
   "execution_count": 18,
   "id": "dd423505",
   "metadata": {},
   "outputs": [
    {
     "data": {
      "text/plain": [
       "'a _ _ _ _ _ _ _ _ _'"
      ]
     },
     "execution_count": 18,
     "metadata": {},
     "output_type": "execute_result"
    }
   ],
   "source": [
    "' '.join(letterGussed)"
   ]
  },
  {
   "cell_type": "code",
   "execution_count": 19,
   "id": "4e507bc4",
   "metadata": {},
   "outputs": [
    {
     "data": {
      "text/plain": [
       "'a,_,_,_,_,_,_,_,_,_'"
      ]
     },
     "execution_count": 19,
     "metadata": {},
     "output_type": "execute_result"
    }
   ],
   "source": [
    "','.join(letterGussed)"
   ]
  },
  {
   "cell_type": "code",
   "execution_count": 20,
   "id": "3d879a45",
   "metadata": {},
   "outputs": [
    {
     "data": {
      "text/plain": [
       "'a , _ , _ , _ , _ , _ , _ , _ , _ , _'"
      ]
     },
     "execution_count": 20,
     "metadata": {},
     "output_type": "execute_result"
    }
   ],
   "source": [
    "' , '.join(letterGussed)"
   ]
  },
  {
   "cell_type": "code",
   "execution_count": 24,
   "id": "caef5ec3",
   "metadata": {},
   "outputs": [],
   "source": [
    "char = 'h'"
   ]
  },
  {
   "cell_type": "code",
   "execution_count": 25,
   "id": "11c38efd",
   "metadata": {},
   "outputs": [
    {
     "data": {
      "text/plain": [
       "True"
      ]
     },
     "execution_count": 25,
     "metadata": {},
     "output_type": "execute_result"
    }
   ],
   "source": [
    "char.isalpha()"
   ]
  },
  {
   "cell_type": "code",
   "execution_count": 26,
   "id": "9192ccfe",
   "metadata": {},
   "outputs": [],
   "source": [
    "char = '&'"
   ]
  },
  {
   "cell_type": "code",
   "execution_count": 27,
   "id": "924c94fd",
   "metadata": {},
   "outputs": [
    {
     "data": {
      "text/plain": [
       "False"
      ]
     },
     "execution_count": 27,
     "metadata": {},
     "output_type": "execute_result"
    }
   ],
   "source": [
    "char.isalpha()"
   ]
  },
  {
   "cell_type": "markdown",
   "id": "7fad75c7",
   "metadata": {},
   "source": [
    "## project implementation"
   ]
  },
  {
   "cell_type": "code",
   "execution_count": 63,
   "id": "16635819",
   "metadata": {},
   "outputs": [
    {
     "name": "stdout",
     "output_type": "stream",
     "text": [
      "Guess the word! Hint: word is a name of a fruit\n",
      "strawbwerry\n",
      "_ _ _ _ _ _ _ _ _ _ _\n",
      "Enter a letter to guess: h\n",
      "Wrong guessing, you have left with 12 chances\n",
      "Enter a letter to guess: h\n",
      "You have already guessed that wrong letter\n",
      "Enter a letter to guess: h\n",
      "You have already guessed that wrong letter\n",
      "Enter a letter to guess: h\n",
      "You have already guessed that wrong letter\n",
      "Enter a letter to guess: h\n",
      "You have already guessed that wrong letter\n",
      "Enter a letter to guess: h\n",
      "You have already guessed that wrong letter\n",
      "Enter a letter to guess: h\n",
      "You have already guessed that wrong letter\n",
      "Enter a letter to guess: b\n",
      "_ _ _ _ _ b _ _ _ _ _\n"
     ]
    },
    {
     "ename": "KeyboardInterrupt",
     "evalue": "Interrupted by user",
     "output_type": "error",
     "traceback": [
      "\u001b[1;31m---------------------------------------------------------------------------\u001b[0m",
      "\u001b[1;31mKeyboardInterrupt\u001b[0m                         Traceback (most recent call last)",
      "\u001b[1;32m~\\AppData\\Local\\Temp/ipykernel_12552/3491114228.py\u001b[0m in \u001b[0;36m<module>\u001b[1;34m\u001b[0m\n\u001b[0;32m      7\u001b[0m \u001b[0mwrong_guesses\u001b[0m \u001b[1;33m=\u001b[0m \u001b[1;33m[\u001b[0m\u001b[1;33m]\u001b[0m\u001b[1;33m\u001b[0m\u001b[1;33m\u001b[0m\u001b[0m\n\u001b[0;32m      8\u001b[0m \u001b[1;32mwhile\u001b[0m \u001b[0mchances\u001b[0m \u001b[1;33m>\u001b[0m \u001b[1;36m0\u001b[0m\u001b[1;33m:\u001b[0m\u001b[1;33m\u001b[0m\u001b[1;33m\u001b[0m\u001b[0m\n\u001b[1;32m----> 9\u001b[1;33m     \u001b[0mguess\u001b[0m \u001b[1;33m=\u001b[0m \u001b[0minput\u001b[0m\u001b[1;33m(\u001b[0m\u001b[1;34m'Enter a letter to guess: '\u001b[0m\u001b[1;33m)\u001b[0m\u001b[1;33m\u001b[0m\u001b[1;33m\u001b[0m\u001b[0m\n\u001b[0m\u001b[0;32m     10\u001b[0m     \u001b[1;31m# validation on input\u001b[0m\u001b[1;33m\u001b[0m\u001b[1;33m\u001b[0m\u001b[1;33m\u001b[0m\u001b[0m\n\u001b[0;32m     11\u001b[0m     \u001b[1;32mif\u001b[0m \u001b[1;32mnot\u001b[0m\u001b[1;33m(\u001b[0m\u001b[0mguess\u001b[0m\u001b[1;33m.\u001b[0m\u001b[0misalpha\u001b[0m\u001b[1;33m(\u001b[0m\u001b[1;33m)\u001b[0m\u001b[1;33m)\u001b[0m\u001b[1;33m:\u001b[0m\u001b[1;33m\u001b[0m\u001b[1;33m\u001b[0m\u001b[0m\n",
      "\u001b[1;32m~\\anaconda3\\envs\\web\\lib\\site-packages\\ipykernel\\kernelbase.py\u001b[0m in \u001b[0;36mraw_input\u001b[1;34m(self, prompt)\u001b[0m\n\u001b[0;32m   1004\u001b[0m                 \u001b[1;34m\"raw_input was called, but this frontend does not support input requests.\"\u001b[0m\u001b[1;33m\u001b[0m\u001b[1;33m\u001b[0m\u001b[0m\n\u001b[0;32m   1005\u001b[0m             )\n\u001b[1;32m-> 1006\u001b[1;33m         return self._input_request(\n\u001b[0m\u001b[0;32m   1007\u001b[0m             \u001b[0mstr\u001b[0m\u001b[1;33m(\u001b[0m\u001b[0mprompt\u001b[0m\u001b[1;33m)\u001b[0m\u001b[1;33m,\u001b[0m\u001b[1;33m\u001b[0m\u001b[1;33m\u001b[0m\u001b[0m\n\u001b[0;32m   1008\u001b[0m             \u001b[0mself\u001b[0m\u001b[1;33m.\u001b[0m\u001b[0m_parent_ident\u001b[0m\u001b[1;33m[\u001b[0m\u001b[1;34m\"shell\"\u001b[0m\u001b[1;33m]\u001b[0m\u001b[1;33m,\u001b[0m\u001b[1;33m\u001b[0m\u001b[1;33m\u001b[0m\u001b[0m\n",
      "\u001b[1;32m~\\anaconda3\\envs\\web\\lib\\site-packages\\ipykernel\\kernelbase.py\u001b[0m in \u001b[0;36m_input_request\u001b[1;34m(self, prompt, ident, parent, password)\u001b[0m\n\u001b[0;32m   1049\u001b[0m             \u001b[1;32mexcept\u001b[0m \u001b[0mKeyboardInterrupt\u001b[0m\u001b[1;33m:\u001b[0m\u001b[1;33m\u001b[0m\u001b[1;33m\u001b[0m\u001b[0m\n\u001b[0;32m   1050\u001b[0m                 \u001b[1;31m# re-raise KeyboardInterrupt, to truncate traceback\u001b[0m\u001b[1;33m\u001b[0m\u001b[1;33m\u001b[0m\u001b[1;33m\u001b[0m\u001b[0m\n\u001b[1;32m-> 1051\u001b[1;33m                 \u001b[1;32mraise\u001b[0m \u001b[0mKeyboardInterrupt\u001b[0m\u001b[1;33m(\u001b[0m\u001b[1;34m\"Interrupted by user\"\u001b[0m\u001b[1;33m)\u001b[0m \u001b[1;32mfrom\u001b[0m \u001b[1;32mNone\u001b[0m\u001b[1;33m\u001b[0m\u001b[1;33m\u001b[0m\u001b[0m\n\u001b[0m\u001b[0;32m   1052\u001b[0m             \u001b[1;32mexcept\u001b[0m \u001b[0mException\u001b[0m\u001b[1;33m:\u001b[0m\u001b[1;33m\u001b[0m\u001b[1;33m\u001b[0m\u001b[0m\n\u001b[0;32m   1053\u001b[0m                 \u001b[0mself\u001b[0m\u001b[1;33m.\u001b[0m\u001b[0mlog\u001b[0m\u001b[1;33m.\u001b[0m\u001b[0mwarning\u001b[0m\u001b[1;33m(\u001b[0m\u001b[1;34m\"Invalid Message:\"\u001b[0m\u001b[1;33m,\u001b[0m \u001b[0mexc_info\u001b[0m\u001b[1;33m=\u001b[0m\u001b[1;32mTrue\u001b[0m\u001b[1;33m)\u001b[0m\u001b[1;33m\u001b[0m\u001b[1;33m\u001b[0m\u001b[0m\n",
      "\u001b[1;31mKeyboardInterrupt\u001b[0m: Interrupted by user"
     ]
    }
   ],
   "source": [
    "while True:\n",
    "    print('Guess the word! Hint: word is a name of a fruit')\n",
    "    word = random.choice(somewords)\n",
    "    #print(word)\n",
    "    letterGuessed = list('_' * len(word))\n",
    "    print(' '.join(letterGuessed))\n",
    "    chances = len(word) + 2\n",
    "    wrong_guesses = []\n",
    "    while chances > 0:\n",
    "        guess = input('Enter a letter to guess: ')\n",
    "        # validation on input \n",
    "        if not(guess.isalpha()):\n",
    "            print(\"Enter only letter\")  \n",
    "        elif len(guess) > 1:\n",
    "            print('Enter only a single character')\n",
    "        elif guess in letterGuessed:\n",
    "            print('You have already guessed that letter')\n",
    "        elif guess in word:\n",
    "            for i, char in enumerate(word):\n",
    "                if guess == char:\n",
    "                    letterGuessed[i] = char\n",
    "            print(\" \".join(letterGuessed))\n",
    "\n",
    "        elif not(guess in wrong_guesses):\n",
    "            chances = chances - 1\n",
    "            wrong_guesses.append(guess)\n",
    "            print(f\"Wrong guessing, you have left with {chances} chances\")\n",
    "        else:\n",
    "            print('You have already guessed that wrong letter')\n",
    "\n",
    "\n",
    "        if \"\".join(letterGuessed) == word:\n",
    "            print('Congrats! you have guessed the word correctly')\n",
    "            break\n",
    "\n",
    "        if chances <= 0:\n",
    "            print('You lost! Please try again...')\n",
    "            print(f\"The word was {word}\")\n",
    "\n",
    "\n",
    "    is_play = input('Do you want to play again? (y, n)')\n",
    "    if is_play.lower() == 'n':\n",
    "        break\n",
    "    \n",
    "    "
   ]
  },
  {
   "cell_type": "code",
   "execution_count": 49,
   "id": "0b711aa7",
   "metadata": {},
   "outputs": [],
   "source": [
    "mList = ['a', 'p', 'p', 'l', 'e']"
   ]
  },
  {
   "cell_type": "code",
   "execution_count": 50,
   "id": "298292f1",
   "metadata": {},
   "outputs": [
    {
     "name": "stdout",
     "output_type": "stream",
     "text": [
      "a\n",
      "p\n",
      "p\n",
      "l\n",
      "e\n"
     ]
    }
   ],
   "source": [
    "for elem in mList:\n",
    "    print(elem)"
   ]
  },
  {
   "cell_type": "code",
   "execution_count": 52,
   "id": "e41c7fe6",
   "metadata": {},
   "outputs": [
    {
     "name": "stdout",
     "output_type": "stream",
     "text": [
      "0\n",
      "a\n",
      "1\n",
      "p\n",
      "2\n",
      "p\n",
      "3\n",
      "l\n",
      "4\n",
      "e\n"
     ]
    }
   ],
   "source": [
    "for i, elem in enumerate(mList):\n",
    "    print(i)\n",
    "    print(elem)"
   ]
  },
  {
   "cell_type": "code",
   "execution_count": null,
   "id": "1ea9b884",
   "metadata": {},
   "outputs": [],
   "source": []
  }
 ],
 "metadata": {
  "kernelspec": {
   "display_name": "Python 3 (ipykernel)",
   "language": "python",
   "name": "python3"
  },
  "language_info": {
   "codemirror_mode": {
    "name": "ipython",
    "version": 3
   },
   "file_extension": ".py",
   "mimetype": "text/x-python",
   "name": "python",
   "nbconvert_exporter": "python",
   "pygments_lexer": "ipython3",
   "version": "3.8.5"
  }
 },
 "nbformat": 4,
 "nbformat_minor": 5
}
