{
 "cells": [
  {
   "cell_type": "markdown",
   "id": "f04164ea",
   "metadata": {
    "id": "Bp1f_yG-9V6I"
   },
   "source": [
    "> ### Harry works in the library, Harry is tired of writing data in paper records so Harry decides to go digital.\n",
    "> ### Harry wants a program to do all the operations in the library.\n",
    "> ### Let's help Harry!"
   ]
  },
  {
   "cell_type": "markdown",
   "id": "558612e7",
   "metadata": {
    "id": "3VtlrGqK9V6L"
   },
   "source": [
    "# Task 1 : \n",
    "- #### task 1.1 Make Class(Library) with attributes:\n",
    "    - booksList  \n",
    "    - name of lirary  \n",
    "    - lended books (name of user, book) \n",
    "- #### task 1.2 Make method to display available Books.\n",
    "- #### task 1.3 Make method for books lending.\n",
    "    - Don't forget to check if book isn't already lended \n",
    "- #### task 1.4 Make method to add Book to library.\n",
    "- #### task 1.5 Make method to return borrowed book."
   ]
  },
  {
   "cell_type": "code",
   "execution_count": null,
   "id": "f8af6ef6",
   "metadata": {},
   "outputs": [],
   "source": [
    "class Library:\n",
    "    \n",
    "    def __init__(self, booksList, name):\n",
    "        self.booksList = booksList\n",
    "        self.booksList = list(map(lambda x: x.lower(), self.booksList))\n",
    "        self.name = name\n",
    "        self.lendDict = {} # keys are the books and values are the users\n",
    "        \n",
    "    def displayBooks(self):\n",
    "        print(f\"We have the following books in our library: {self.name}\")\n",
    "        for book in self.booksList:\n",
    "            print(book)\n",
    "            \n",
    "    def lendBook(self, user, book):\n",
    "        book = book.lower()\n",
    "        if book not in self.booksList:\n",
    "            print('This book is unavailable')\n",
    "        elif book in self.lendDict.keys():\n",
    "            print(f\"Book: {book} is already taken by {self.lendDict[book]}\")\n",
    "        else:\n",
    "            self.lendDict[book] = user\n",
    "            print(f\"Lender database has been updated, please take the book\")\n",
    "            \n",
    "    def addBook(self, book):\n",
    "        book = book.lower()\n",
    "        if book in self.booksList:\n",
    "            print(\"This book already exists\")\n",
    "        else:\n",
    "            self.booksList.append(book)\n",
    "            print(f\"Book: {book} has been added to your collection\")\n",
    "            \n",
    "    def returnBook(self, book):\n",
    "        if book in self.lendDict.keys():\n",
    "            self.lendDict.pop(book)\n",
    "        else:\n",
    "            print(\"This book is not lended from our own library\")\n",
    "            \n",
    "            \n",
    "        \n",
    "    \n",
    "        \n",
    "        "
   ]
  },
  {
   "cell_type": "code",
   "execution_count": 19,
   "id": "1f6d2354",
   "metadata": {},
   "outputs": [],
   "source": [
    "myLibrary = Library(['Harry potter', '1919', 'vertigo'], 'Bookabikia')"
   ]
  },
  {
   "cell_type": "code",
   "execution_count": 20,
   "id": "074620e9",
   "metadata": {},
   "outputs": [
    {
     "name": "stdout",
     "output_type": "stream",
     "text": [
      "We have the following books in our library: Bookabikia\n",
      "harry potter\n",
      "1919\n",
      "vertigo\n"
     ]
    }
   ],
   "source": [
    "myLibrary.displayBooks()"
   ]
  },
  {
   "cell_type": "code",
   "execution_count": 21,
   "id": "50ac3a7c",
   "metadata": {},
   "outputs": [
    {
     "name": "stdout",
     "output_type": "stream",
     "text": [
      "This book is unavailable\n"
     ]
    }
   ],
   "source": [
    "myLibrary.lendBook('Mohamed', 'animal farm')"
   ]
  },
  {
   "cell_type": "code",
   "execution_count": 22,
   "id": "ce81b7d5",
   "metadata": {},
   "outputs": [
    {
     "name": "stdout",
     "output_type": "stream",
     "text": [
      "Lender database has been updated, please take the book\n"
     ]
    }
   ],
   "source": [
    "myLibrary.lendBook('Mohamed', '1919')"
   ]
  },
  {
   "cell_type": "code",
   "execution_count": 23,
   "id": "5a116122",
   "metadata": {},
   "outputs": [
    {
     "name": "stdout",
     "output_type": "stream",
     "text": [
      "Book: 1919 is already taken by Mohamed\n"
     ]
    }
   ],
   "source": [
    "myLibrary.lendBook('Ahmed', '1919')"
   ]
  },
  {
   "cell_type": "code",
   "execution_count": 24,
   "id": "5018f4b6",
   "metadata": {},
   "outputs": [
    {
     "name": "stdout",
     "output_type": "stream",
     "text": [
      "Book: animal farm has been added to your collection\n"
     ]
    }
   ],
   "source": [
    "myLibrary.addBook('animal farm')"
   ]
  },
  {
   "cell_type": "code",
   "execution_count": 25,
   "id": "128d68cc",
   "metadata": {},
   "outputs": [
    {
     "name": "stdout",
     "output_type": "stream",
     "text": [
      "This book already exists\n"
     ]
    }
   ],
   "source": [
    "myLibrary.addBook('vertigo')"
   ]
  },
  {
   "cell_type": "code",
   "execution_count": 26,
   "id": "6468e82e",
   "metadata": {},
   "outputs": [
    {
     "name": "stdout",
     "output_type": "stream",
     "text": [
      "We have the following books in our library: Bookabikia\n",
      "harry potter\n",
      "1919\n",
      "vertigo\n",
      "animal farm\n"
     ]
    }
   ],
   "source": [
    "myLibrary.displayBooks()"
   ]
  },
  {
   "cell_type": "code",
   "execution_count": 27,
   "id": "68237790",
   "metadata": {},
   "outputs": [],
   "source": [
    "myLibrary.returnBook('1919')"
   ]
  },
  {
   "cell_type": "code",
   "execution_count": 28,
   "id": "dbf1d936",
   "metadata": {},
   "outputs": [
    {
     "name": "stdout",
     "output_type": "stream",
     "text": [
      "Lender database has been updated, please take the book\n"
     ]
    }
   ],
   "source": [
    "myLibrary.lendBook('Ahmed', '1919')"
   ]
  },
  {
   "cell_type": "code",
   "execution_count": null,
   "id": "acccb382",
   "metadata": {},
   "outputs": [],
   "source": []
  },
  {
   "cell_type": "markdown",
   "id": "4e2144c0",
   "metadata": {
    "id": "yLoUqXT39V6V"
   },
   "source": [
    "# Task 2 : \n",
    "- #### task 2.1 Make object(Harry) with attributes:\n",
    "    - booksList  = ['Python', 'Rich Daddy Poor Daddy', 'Harry Potter', 'C++ Basics', 'Algorithms by CLRS']\n",
    "    - name of lirary  = \"CodeWithHarry\"\n",
    "- #### task 2.2 Make program run with this choices. __(Don't forget the welcome message)__\n",
    "    - 1. Display Books\n",
    "    - 2. Lend a Book\n",
    "    - 3. Add a Book\n",
    "    - 4. Return a Book\n",
    "- #### task 2.3 Make prgram ends or continue."
   ]
  },
  {
   "cell_type": "code",
   "execution_count": 34,
   "id": "b55249a9",
   "metadata": {},
   "outputs": [
    {
     "name": "stdout",
     "output_type": "stream",
     "text": [
      "Welcome to CodeWithHarry, please enter yor choice\n",
      "\n",
      "    Choose (1) to display books\n",
      "    Choose (2) to lend a book\n",
      "    Choose (3) to add a book\n",
      "    Choose (4) to return a book\n",
      "    \n",
      "1\n",
      "User have chosen 1\n",
      "We have the following books in our library: CodeWithHarry\n",
      "python\n",
      "rich daddy poor daddy\n",
      "harry potter\n",
      "c++ basics\n",
      "algorithms by clrs\n",
      "Do you want to quit? (q)n\n",
      "Welcome to CodeWithHarry, please enter yor choice\n",
      "\n",
      "    Choose (1) to display books\n",
      "    Choose (2) to lend a book\n",
      "    Choose (3) to add a book\n",
      "    Choose (4) to return a book\n",
      "    \n",
      "4\n",
      "User have chosen 4\n",
      "Please enter the name of the book you want to returnpython\n",
      "This book is not lended from our own library\n",
      "Do you want to quit? (q)n\n",
      "Welcome to CodeWithHarry, please enter yor choice\n",
      "\n",
      "    Choose (1) to display books\n",
      "    Choose (2) to lend a book\n",
      "    Choose (3) to add a book\n",
      "    Choose (4) to return a book\n",
      "    \n",
      "2\n",
      "User have chosen 2\n",
      "Please enter the name of the book you want to borrow: python\n",
      "Please enter your name: Khaled\n",
      "Lender database has been updated, please take the book\n",
      "{'python': 'Khaled'}\n",
      "Do you want to quit? (q)n\n",
      "Welcome to CodeWithHarry, please enter yor choice\n",
      "\n",
      "    Choose (1) to display books\n",
      "    Choose (2) to lend a book\n",
      "    Choose (3) to add a book\n",
      "    Choose (4) to return a book\n",
      "    \n",
      "4\n",
      "User have chosen 4\n",
      "Please enter the name of the book you want to returnpython\n",
      "Do you want to quit? (q)n\n",
      "Welcome to CodeWithHarry, please enter yor choice\n",
      "\n",
      "    Choose (1) to display books\n",
      "    Choose (2) to lend a book\n",
      "    Choose (3) to add a book\n",
      "    Choose (4) to return a book\n",
      "    \n",
      "2\n",
      "User have chosen 2\n",
      "Please enter the name of the book you want to borrow: python\n",
      "Please enter your name: jake\n",
      "Lender database has been updated, please take the book\n",
      "{'python': 'jake'}\n",
      "Do you want to quit? (q)n\n",
      "Welcome to CodeWithHarry, please enter yor choice\n",
      "\n",
      "    Choose (1) to display books\n",
      "    Choose (2) to lend a book\n",
      "    Choose (3) to add a book\n",
      "    Choose (4) to return a book\n",
      "    \n"
     ]
    },
    {
     "ename": "KeyboardInterrupt",
     "evalue": "Interrupted by user",
     "output_type": "error",
     "traceback": [
      "\u001b[1;31m---------------------------------------------------------------------------\u001b[0m",
      "\u001b[1;31mKeyboardInterrupt\u001b[0m                         Traceback (most recent call last)",
      "\u001b[1;32m~\\AppData\\Local\\Temp/ipykernel_7668/2727439818.py\u001b[0m in \u001b[0;36m<module>\u001b[1;34m\u001b[0m\n\u001b[0;32m     14\u001b[0m     \"\"\")\n\u001b[0;32m     15\u001b[0m \u001b[1;33m\u001b[0m\u001b[0m\n\u001b[1;32m---> 16\u001b[1;33m     \u001b[0muser_choice\u001b[0m \u001b[1;33m=\u001b[0m \u001b[0minput\u001b[0m\u001b[1;33m(\u001b[0m\u001b[1;33m)\u001b[0m\u001b[1;33m\u001b[0m\u001b[1;33m\u001b[0m\u001b[0m\n\u001b[0m\u001b[0;32m     17\u001b[0m \u001b[1;33m\u001b[0m\u001b[0m\n\u001b[0;32m     18\u001b[0m     \u001b[1;32mif\u001b[0m \u001b[0muser_choice\u001b[0m \u001b[1;32mnot\u001b[0m \u001b[1;32min\u001b[0m \u001b[1;33m[\u001b[0m\u001b[1;34m'1'\u001b[0m\u001b[1;33m,\u001b[0m \u001b[1;34m'2'\u001b[0m\u001b[1;33m,\u001b[0m \u001b[1;34m'3'\u001b[0m\u001b[1;33m,\u001b[0m \u001b[1;34m'4'\u001b[0m\u001b[1;33m]\u001b[0m\u001b[1;33m:\u001b[0m\u001b[1;33m\u001b[0m\u001b[1;33m\u001b[0m\u001b[0m\n",
      "\u001b[1;32m~\\anaconda3\\envs\\web\\lib\\site-packages\\ipykernel\\kernelbase.py\u001b[0m in \u001b[0;36mraw_input\u001b[1;34m(self, prompt)\u001b[0m\n\u001b[0;32m   1004\u001b[0m                 \u001b[1;34m\"raw_input was called, but this frontend does not support input requests.\"\u001b[0m\u001b[1;33m\u001b[0m\u001b[1;33m\u001b[0m\u001b[0m\n\u001b[0;32m   1005\u001b[0m             )\n\u001b[1;32m-> 1006\u001b[1;33m         return self._input_request(\n\u001b[0m\u001b[0;32m   1007\u001b[0m             \u001b[0mstr\u001b[0m\u001b[1;33m(\u001b[0m\u001b[0mprompt\u001b[0m\u001b[1;33m)\u001b[0m\u001b[1;33m,\u001b[0m\u001b[1;33m\u001b[0m\u001b[1;33m\u001b[0m\u001b[0m\n\u001b[0;32m   1008\u001b[0m             \u001b[0mself\u001b[0m\u001b[1;33m.\u001b[0m\u001b[0m_parent_ident\u001b[0m\u001b[1;33m[\u001b[0m\u001b[1;34m\"shell\"\u001b[0m\u001b[1;33m]\u001b[0m\u001b[1;33m,\u001b[0m\u001b[1;33m\u001b[0m\u001b[1;33m\u001b[0m\u001b[0m\n",
      "\u001b[1;32m~\\anaconda3\\envs\\web\\lib\\site-packages\\ipykernel\\kernelbase.py\u001b[0m in \u001b[0;36m_input_request\u001b[1;34m(self, prompt, ident, parent, password)\u001b[0m\n\u001b[0;32m   1049\u001b[0m             \u001b[1;32mexcept\u001b[0m \u001b[0mKeyboardInterrupt\u001b[0m\u001b[1;33m:\u001b[0m\u001b[1;33m\u001b[0m\u001b[1;33m\u001b[0m\u001b[0m\n\u001b[0;32m   1050\u001b[0m                 \u001b[1;31m# re-raise KeyboardInterrupt, to truncate traceback\u001b[0m\u001b[1;33m\u001b[0m\u001b[1;33m\u001b[0m\u001b[1;33m\u001b[0m\u001b[0m\n\u001b[1;32m-> 1051\u001b[1;33m                 \u001b[1;32mraise\u001b[0m \u001b[0mKeyboardInterrupt\u001b[0m\u001b[1;33m(\u001b[0m\u001b[1;34m\"Interrupted by user\"\u001b[0m\u001b[1;33m)\u001b[0m \u001b[1;32mfrom\u001b[0m \u001b[1;32mNone\u001b[0m\u001b[1;33m\u001b[0m\u001b[1;33m\u001b[0m\u001b[0m\n\u001b[0m\u001b[0;32m   1052\u001b[0m             \u001b[1;32mexcept\u001b[0m \u001b[0mException\u001b[0m\u001b[1;33m:\u001b[0m\u001b[1;33m\u001b[0m\u001b[1;33m\u001b[0m\u001b[0m\n\u001b[0;32m   1053\u001b[0m                 \u001b[0mself\u001b[0m\u001b[1;33m.\u001b[0m\u001b[0mlog\u001b[0m\u001b[1;33m.\u001b[0m\u001b[0mwarning\u001b[0m\u001b[1;33m(\u001b[0m\u001b[1;34m\"Invalid Message:\"\u001b[0m\u001b[1;33m,\u001b[0m \u001b[0mexc_info\u001b[0m\u001b[1;33m=\u001b[0m\u001b[1;32mTrue\u001b[0m\u001b[1;33m)\u001b[0m\u001b[1;33m\u001b[0m\u001b[1;33m\u001b[0m\u001b[0m\n",
      "\u001b[1;31mKeyboardInterrupt\u001b[0m: Interrupted by user"
     ]
    }
   ],
   "source": [
    "harry = Library(\n",
    "    ['Python', 'Rich Daddy Poor Daddy', 'Harry Potter', 'C++ Basics', 'Algorithms by CLRS'],\n",
    "    \"CodeWithHarry\"\n",
    ")\n",
    "\n",
    "while True:\n",
    "    \n",
    "    print(f\"Welcome to {harry.name}, please enter yor choice\")\n",
    "    print(\"\"\"\n",
    "    Choose (1) to display books\n",
    "    Choose (2) to lend a book\n",
    "    Choose (3) to add a book\n",
    "    Choose (4) to return a book\n",
    "    \"\"\")\n",
    "    \n",
    "    user_choice = input()\n",
    "    \n",
    "    if user_choice not in ['1', '2', '3', '4']:\n",
    "        print(\"Please enter a valid option\")\n",
    "        continue\n",
    "    else:\n",
    "        user_choice = int(user_choice)\n",
    "        \n",
    "    print(f\"User have chosen {user_choice}\")\n",
    "    \n",
    "    if user_choice == 1:\n",
    "        harry.displayBooks()\n",
    "    elif user_choice == 2:\n",
    "        book = input(\"Please enter the name of the book you want to borrow: \")\n",
    "        user = input(\"Please enter your name: \")\n",
    "        harry.lendBook(user, book)\n",
    "        print(harry.lendDict)\n",
    "    elif user_choice == 3:\n",
    "        book = input(\"Please enter the name of the book you want to add: \")\n",
    "        harry.addBook(book)\n",
    "    else:\n",
    "        book = input(\"Please enter the name of the book you want to return: \")\n",
    "        harry.returnBook(book)\n",
    "        \n",
    "    \n",
    "    is_exit = input(\"Do you want to quit? (q)\")\n",
    "    if is_exit == 'q':\n",
    "        break"
   ]
  },
  {
   "cell_type": "code",
   "execution_count": null,
   "id": "cb2d2d51",
   "metadata": {},
   "outputs": [],
   "source": []
  }
 ],
 "metadata": {
  "kernelspec": {
   "display_name": "Python 3 (ipykernel)",
   "language": "python",
   "name": "python3"
  },
  "language_info": {
   "codemirror_mode": {
    "name": "ipython",
    "version": 3
   },
   "file_extension": ".py",
   "mimetype": "text/x-python",
   "name": "python",
   "nbconvert_exporter": "python",
   "pygments_lexer": "ipython3",
   "version": "3.8.5"
  }
 },
 "nbformat": 4,
 "nbformat_minor": 5
}
