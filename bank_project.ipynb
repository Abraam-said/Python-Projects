{
 "cells": [
  {
   "cell_type": "markdown",
   "id": "d02cbb7e",
   "metadata": {
    "id": "VcVSo9kzHCxH"
   },
   "source": [
    "> ###  The Central Bank contacted our technical team and asked it to develop a program suitable for all banks, with the addition of some advantages for certain banks"
   ]
  },
  {
   "cell_type": "markdown",
   "id": "7495c6d1",
   "metadata": {
    "id": "-7XiAaIEHCxK"
   },
   "source": [
    "# Task 1 : \n",
    "- #### task 1.1 Make Class(User) with attributes:\n",
    "    - name \n",
    "    - age \n",
    "    - gender \n",
    "    - balance\n",
    "- #### task 1.2 Make method to show previous data "
   ]
  },
  {
   "cell_type": "code",
   "execution_count": 2,
   "id": "4e0d6729",
   "metadata": {},
   "outputs": [],
   "source": [
    "class User:\n",
    "    \n",
    "    def __init__(self, name, age, gender, balance=0):\n",
    "        self.name = name\n",
    "        self.age = age\n",
    "        self.gender = gender\n",
    "        self.balance = balance\n",
    "        \n",
    "    def show_data(self):\n",
    "        print(f\"Name: {self.name}\")\n",
    "        print(f\"Age: {self.age}\")\n",
    "        print(f\"Gender: {self.gender}\")\n",
    "        print(f\"Balance: {self.balance}\")\n",
    "        \n",
    "        \n",
    "        "
   ]
  },
  {
   "cell_type": "code",
   "execution_count": 6,
   "id": "7dfdcad3",
   "metadata": {},
   "outputs": [],
   "source": [
    "user1 = User(\"Ahmed\", 25, 'male', 1000)"
   ]
  },
  {
   "cell_type": "code",
   "execution_count": 7,
   "id": "d2219ab5",
   "metadata": {},
   "outputs": [
    {
     "name": "stdout",
     "output_type": "stream",
     "text": [
      "Name: Ahmed\n",
      "Age: 25\n",
      "Gender: male\n",
      "Balance: 1000\n"
     ]
    }
   ],
   "source": [
    "user1.show_data()"
   ]
  },
  {
   "cell_type": "code",
   "execution_count": 9,
   "id": "1aa5ddaf",
   "metadata": {},
   "outputs": [],
   "source": [
    "user2 = User(\"Mayar\", 25, 'Female')"
   ]
  },
  {
   "cell_type": "code",
   "execution_count": 10,
   "id": "6973254b",
   "metadata": {},
   "outputs": [
    {
     "name": "stdout",
     "output_type": "stream",
     "text": [
      "Name: Mayar\n",
      "Age: 25\n",
      "Gender: Female\n",
      "Balance: 0\n"
     ]
    }
   ],
   "source": [
    "user2.show_data()"
   ]
  },
  {
   "cell_type": "code",
   "execution_count": null,
   "id": "77cb0574",
   "metadata": {},
   "outputs": [],
   "source": []
  },
  {
   "cell_type": "markdown",
   "id": "5f8591bf",
   "metadata": {
    "id": "Xub083qUHCxZ"
   },
   "source": [
    "# Task 2 : \n",
    "- Make Child Class(Bank) which inherite from Class(user) with Mehods:\n",
    "    - #### task 2.1 deposite : which take parameter(amount) and add it to balance and print new balance.  \n",
    "    - #### task 2.2 withdraw : which take parameter(amount) and check if user have enough money. \n",
    "    - #### task 2.3 view balance : to show current balance. \n"
   ]
  },
  {
   "cell_type": "code",
   "execution_count": 41,
   "id": "118eb8ad",
   "metadata": {},
   "outputs": [],
   "source": [
    "class Bank(User):\n",
    "    \n",
    "    def __init__(self, name, age, gender, balance, bank_name):\n",
    "        if balance >= 0:\n",
    "            super(Bank, self).__init__(name, age, gender, balance)\n",
    "            self.bank_name = bank_name\n",
    "        else:\n",
    "            raise Exception(\"Number should be positive\")\n",
    "            \n",
    "    \n",
    "    def show_data(self):\n",
    "        super(Bank, self).show_data()\n",
    "        print(f\"Bank Name: {self.bank_name}\")\n",
    "        \n",
    "    \n",
    "    def deposite(self, amount):\n",
    "        if amount > 0:\n",
    "            self.balance = self.balance + amount\n",
    "        else:\n",
    "            print(\"Enter a valid positive amount\")\n",
    "            \n",
    "    def show_balance(self):\n",
    "        return self.balance\n",
    "            \n",
    "    def withdraw(self, amount):\n",
    "        if amount > self.balance:\n",
    "            print(\"Not enough money\")\n",
    "        elif amount <= 0:\n",
    "            print('Insufficient withdraw amount, please enter a number greater than zero')\n",
    "        else:\n",
    "            self.balance = self.balance - amount\n",
    "            print(f\"Current balance: {self.show_balance()}\")\n",
    "            "
   ]
  },
  {
   "cell_type": "code",
   "execution_count": 22,
   "id": "954801ce",
   "metadata": {},
   "outputs": [
    {
     "ename": "Exception",
     "evalue": "Number should be positive",
     "output_type": "error",
     "traceback": [
      "\u001b[1;31m---------------------------------------------------------------------------\u001b[0m",
      "\u001b[1;31mException\u001b[0m                                 Traceback (most recent call last)",
      "\u001b[1;32m~\\AppData\\Local\\Temp/ipykernel_13024/444223304.py\u001b[0m in \u001b[0;36m<module>\u001b[1;34m\u001b[0m\n\u001b[1;32m----> 1\u001b[1;33m \u001b[0mBank\u001b[0m\u001b[1;33m(\u001b[0m\u001b[1;34m\"Ahmed\"\u001b[0m\u001b[1;33m,\u001b[0m \u001b[1;36m26\u001b[0m\u001b[1;33m,\u001b[0m \u001b[1;34m\"Male\"\u001b[0m\u001b[1;33m,\u001b[0m \u001b[1;33m-\u001b[0m\u001b[1;36m2200\u001b[0m\u001b[1;33m,\u001b[0m \u001b[1;34m\"CIB\"\u001b[0m\u001b[1;33m)\u001b[0m\u001b[1;33m\u001b[0m\u001b[1;33m\u001b[0m\u001b[0m\n\u001b[0m",
      "\u001b[1;32m~\\AppData\\Local\\Temp/ipykernel_13024/3726131526.py\u001b[0m in \u001b[0;36m__init__\u001b[1;34m(self, name, age, gender, balance, bank_name)\u001b[0m\n\u001b[0;32m      6\u001b[0m             \u001b[0mself\u001b[0m\u001b[1;33m.\u001b[0m\u001b[0mbank_name\u001b[0m \u001b[1;33m=\u001b[0m \u001b[0mbank_name\u001b[0m\u001b[1;33m\u001b[0m\u001b[1;33m\u001b[0m\u001b[0m\n\u001b[0;32m      7\u001b[0m         \u001b[1;32melse\u001b[0m\u001b[1;33m:\u001b[0m\u001b[1;33m\u001b[0m\u001b[1;33m\u001b[0m\u001b[0m\n\u001b[1;32m----> 8\u001b[1;33m             \u001b[1;32mraise\u001b[0m \u001b[0mException\u001b[0m\u001b[1;33m(\u001b[0m\u001b[1;34m\"Number should be positive\"\u001b[0m\u001b[1;33m)\u001b[0m\u001b[1;33m\u001b[0m\u001b[1;33m\u001b[0m\u001b[0m\n\u001b[0m\u001b[0;32m      9\u001b[0m \u001b[1;33m\u001b[0m\u001b[0m\n\u001b[0;32m     10\u001b[0m \u001b[1;33m\u001b[0m\u001b[0m\n",
      "\u001b[1;31mException\u001b[0m: Number should be positive"
     ]
    }
   ],
   "source": [
    "Bank(\"Ahmed\", 26, \"Male\", -2200, \"CIB\")"
   ]
  },
  {
   "cell_type": "code",
   "execution_count": 42,
   "id": "91398c2c",
   "metadata": {},
   "outputs": [],
   "source": [
    "Bank1 = Bank(\"Ahmed\", 26, \"Male\", 2200, \"CIB\")\n"
   ]
  },
  {
   "cell_type": "code",
   "execution_count": 43,
   "id": "6ee2bf7f",
   "metadata": {},
   "outputs": [
    {
     "name": "stdout",
     "output_type": "stream",
     "text": [
      "Name: Ahmed\n",
      "Age: 26\n",
      "Gender: Male\n",
      "Balance: 2200\n",
      "Bank Name: CIB\n"
     ]
    }
   ],
   "source": [
    "Bank1.show_data()"
   ]
  },
  {
   "cell_type": "code",
   "execution_count": 44,
   "id": "9e3afe54",
   "metadata": {},
   "outputs": [],
   "source": [
    "Bank1.deposite(1300)"
   ]
  },
  {
   "cell_type": "code",
   "execution_count": 45,
   "id": "bf11d4cf",
   "metadata": {},
   "outputs": [
    {
     "name": "stdout",
     "output_type": "stream",
     "text": [
      "Name: Ahmed\n",
      "Age: 26\n",
      "Gender: Male\n",
      "Balance: 3500\n",
      "Bank Name: CIB\n"
     ]
    }
   ],
   "source": [
    "Bank1.show_data()"
   ]
  },
  {
   "cell_type": "code",
   "execution_count": 46,
   "id": "b650c73b",
   "metadata": {},
   "outputs": [
    {
     "data": {
      "text/plain": [
       "3500"
      ]
     },
     "execution_count": 46,
     "metadata": {},
     "output_type": "execute_result"
    }
   ],
   "source": [
    "Bank1.show_balance()"
   ]
  },
  {
   "cell_type": "code",
   "execution_count": 47,
   "id": "b369e38f",
   "metadata": {},
   "outputs": [
    {
     "name": "stdout",
     "output_type": "stream",
     "text": [
      "Enter a valid positive amount\n"
     ]
    }
   ],
   "source": [
    "Bank1.deposite(-1300)"
   ]
  },
  {
   "cell_type": "code",
   "execution_count": 48,
   "id": "0db88b58",
   "metadata": {},
   "outputs": [
    {
     "name": "stdout",
     "output_type": "stream",
     "text": [
      "Current balance: 3000\n"
     ]
    }
   ],
   "source": [
    "Bank1.withdraw(500)"
   ]
  },
  {
   "cell_type": "code",
   "execution_count": 49,
   "id": "6ac37bfb",
   "metadata": {},
   "outputs": [
    {
     "data": {
      "text/plain": [
       "3000"
      ]
     },
     "execution_count": 49,
     "metadata": {},
     "output_type": "execute_result"
    }
   ],
   "source": [
    "Bank1.show_balance()"
   ]
  },
  {
   "cell_type": "code",
   "execution_count": 50,
   "id": "6abf7e63",
   "metadata": {},
   "outputs": [
    {
     "name": "stdout",
     "output_type": "stream",
     "text": [
      "Insufficient withdraw amount, please enter a number greater than zero\n"
     ]
    }
   ],
   "source": [
    "Bank1.withdraw(-10000000)"
   ]
  },
  {
   "cell_type": "code",
   "execution_count": 51,
   "id": "6d14c6aa",
   "metadata": {},
   "outputs": [
    {
     "data": {
      "text/plain": [
       "3000"
      ]
     },
     "execution_count": 51,
     "metadata": {},
     "output_type": "execute_result"
    }
   ],
   "source": [
    "Bank1.show_balance()"
   ]
  },
  {
   "cell_type": "code",
   "execution_count": null,
   "id": "2748811c",
   "metadata": {},
   "outputs": [],
   "source": []
  },
  {
   "cell_type": "code",
   "execution_count": null,
   "id": "d8e740c8",
   "metadata": {},
   "outputs": [],
   "source": []
  },
  {
   "cell_type": "markdown",
   "id": "36e05281",
   "metadata": {
    "id": "frK7xOJ9HCxq"
   },
   "source": [
    "# Task 3 : \n",
    "- #### task 3.1 Make Child Class(CIB) which inherite from Class(Bank) with Mehods:\n",
    "    -   Loan application: which take parameter(amount) and  (Duration) >> max loan is one million\n",
    "- #### task 3.2 Make Child Class(QNB) which inherite from Class(Bank) with Mehods:\n",
    "    -   Loan application: which take parameter(amount) and  (Duration) >> max loan is one 2 million"
   ]
  },
  {
   "cell_type": "code",
   "execution_count": 53,
   "id": "44787ffa",
   "metadata": {},
   "outputs": [],
   "source": [
    "class CIB(Bank):\n",
    "    def loan_application(self, amount, duration):\n",
    "        if amount > 1000000:\n",
    "            print(\"Sorry max loan is 1 million\")\n",
    "        else:\n",
    "            print(\"Your application is under review\")\n",
    "            \n"
   ]
  },
  {
   "cell_type": "code",
   "execution_count": 63,
   "id": "46cb6d02",
   "metadata": {},
   "outputs": [],
   "source": [
    "class QNB(Bank):\n",
    "    def loan_application(self, amount, duration):\n",
    "        if amount > 2000000:\n",
    "            print(\"Sorry max loan is 2 million\")\n",
    "        else:\n",
    "            print(\"Your application is under review\")"
   ]
  },
  {
   "cell_type": "code",
   "execution_count": 55,
   "id": "b6a1c6b7",
   "metadata": {},
   "outputs": [],
   "source": [
    "cib_user = CIB(\"Ibrahim\", 25, \"Male\", 1000, 'CIB')"
   ]
  },
  {
   "cell_type": "code",
   "execution_count": 57,
   "id": "059b3d01",
   "metadata": {},
   "outputs": [
    {
     "name": "stdout",
     "output_type": "stream",
     "text": [
      "Your application is under review\n"
     ]
    }
   ],
   "source": [
    "cib_user.loan_application(50000, 12)"
   ]
  },
  {
   "cell_type": "code",
   "execution_count": 58,
   "id": "44c9a60a",
   "metadata": {},
   "outputs": [
    {
     "name": "stdout",
     "output_type": "stream",
     "text": [
      "Sorry max loan is 1 million\n"
     ]
    }
   ],
   "source": [
    "cib_user.loan_application(2000000, 12)"
   ]
  },
  {
   "cell_type": "code",
   "execution_count": 59,
   "id": "5fad8e53",
   "metadata": {},
   "outputs": [
    {
     "data": {
      "text/plain": [
       "1000"
      ]
     },
     "execution_count": 59,
     "metadata": {},
     "output_type": "execute_result"
    }
   ],
   "source": [
    "cib_user.show_balance()"
   ]
  },
  {
   "cell_type": "code",
   "execution_count": 64,
   "id": "d7143aee",
   "metadata": {},
   "outputs": [],
   "source": [
    "qnb_user = QNB(\"Ahmed\", 30, \"male\", 60000, 'QNB')"
   ]
  },
  {
   "cell_type": "code",
   "execution_count": 65,
   "id": "44ac4ad1",
   "metadata": {},
   "outputs": [
    {
     "name": "stdout",
     "output_type": "stream",
     "text": [
      "Your application is under review\n"
     ]
    }
   ],
   "source": [
    "qnb_user.loan_application(100000, 12)"
   ]
  },
  {
   "cell_type": "code",
   "execution_count": 66,
   "id": "950b973b",
   "metadata": {},
   "outputs": [
    {
     "name": "stdout",
     "output_type": "stream",
     "text": [
      "Sorry max loan is 2 million\n"
     ]
    }
   ],
   "source": [
    "qnb_user.loan_application(3000000, 12)"
   ]
  },
  {
   "cell_type": "code",
   "execution_count": null,
   "id": "1215dfcd",
   "metadata": {},
   "outputs": [],
   "source": []
  }
 ],
 "metadata": {
  "kernelspec": {
   "display_name": "Python 3 (ipykernel)",
   "language": "python",
   "name": "python3"
  },
  "language_info": {
   "codemirror_mode": {
    "name": "ipython",
    "version": 3
   },
   "file_extension": ".py",
   "mimetype": "text/x-python",
   "name": "python",
   "nbconvert_exporter": "python",
   "pygments_lexer": "ipython3",
   "version": "3.8.5"
  }
 },
 "nbformat": 4,
 "nbformat_minor": 5
}
